{
 "cells": [
  {
   "cell_type": "markdown",
   "metadata": {},
   "source": [
    "# Web Mining and Applied NLP (44-620)\n",
    "\n",
    "## Requests, JSON, and NLP\n",
    "\n",
    "### Student Name: Sarah Windeknecht\n",
    "https://github.com/sarahwind/json-sentiment-sarahwind\n",
    "\n",
    "Perform the tasks described in the Markdown cells below.  When you have completed the assignment make sure your code cells have all been run (and have output beneath them) and ensure you have committed and pushed ALL of your changes to your assignment repository.\n",
    "\n",
    "Make sure you have [installed spaCy and its pipeline](https://spacy.io/usage#quickstart) and [spaCyTextBlob](https://spacy.io/universe/project/spacy-textblob)\n",
    "\n",
    "Every question that requires you to write code will have a code cell underneath it; you may either write your entire solution in that cell or write it in a python file (`.py`), then import and run the appropriate code to answer the question.\n",
    "\n",
    "This assignment requires that you write additional files (either JSON or pickle files); make sure to submit those files in your repository as well."
   ]
  },
  {
   "cell_type": "markdown",
   "metadata": {},
   "source": [
    "**QUESTION 1: FIND LYRICS"
   ]
  },
  {
   "cell_type": "markdown",
   "metadata": {},
   "source": [
    "1. The following code accesses the [lyrics.ovh](https://lyricsovh.docs.apiary.io/#reference/0/lyrics-of-a-song/search) public api, searches for the lyrics of a song, and stores it in a dictionary object.  Write the resulting json to a file (either a JSON file or a pickle file; you choose). You will read in the contents of this file for future questions so we do not need to frequently access the API."
   ]
  },
  {
   "cell_type": "code",
   "execution_count": 29,
   "metadata": {},
   "outputs": [
    {
     "name": "stdout",
     "output_type": "stream",
     "text": [
      "Searching for \"Perfect\" by Ed Sheeran...\n",
      "Done.\n"
     ]
    },
    {
     "name": "stdin",
     "output_type": "stream",
     "text": [
      "lyrics_edsheeran_perfect.json already exists. Overwrite?\n",
      "(y/n):  y\n"
     ]
    },
    {
     "name": "stdout",
     "output_type": "stream",
     "text": [
      "Wrote lyrics_edsheeran_perfect.json.\n"
     ]
    }
   ],
   "source": [
    "import lyricsgenius\n",
    "genius = lyricsgenius.Genius(\"TJIUUmN9K5asJOtx9XzLuLnFlYegOXra7-8GKb06hYF4j56_84H_NC1pjCBArhcb\")\n",
    "\n",
    "song = genius.search_song(\"Perfect\", \"Ed Sheeran\")\n",
    "song.save_lyrics()"
   ]
  },
  {
   "cell_type": "markdown",
   "metadata": {},
   "source": [
    "**QUESTION 2: POLARITY SCORE"
   ]
  },
  {
   "cell_type": "markdown",
   "metadata": {},
   "source": [
    "2. Read in the contents of your file.  Print the lyrics of the song (not the entire dictionary!) and use spaCyTextBlob to perform sentiment analysis on the lyrics.  Print the polarity score of the sentiment analysis.  Given that the range of the polarity score is `[-1.0,1.0]` which corresponds to how positive or negative the text in question is, do you think the lyrics have a more positive or negative connotaion?  Answer this question in a comment in your code cell."
   ]
  },
  {
   "cell_type": "code",
   "execution_count": 30,
   "metadata": {},
   "outputs": [
    {
     "name": "stdout",
     "output_type": "stream",
     "text": [
      "TranslationsTürkçeEspañolPortuguêsItalianoΕλληνικάDeutschFrançaisفارسیPerfect Lyrics[Verse 1]\n",
      "I found a love for me\n",
      "Oh, darling, just dive right in and follow my lead\n",
      "Well, I found a girl, beautiful and sweet\n",
      "Oh, I never knew you were the someone waiting for me\n",
      "\n",
      "[Pre-Chorus]\n",
      "'Cause we were just kids when we fell in love\n",
      "Not knowing what it was\n",
      "I will not give you up this time\n",
      "But darling, just kiss me slow, your heart is all I own\n",
      "And in your eyes, you're holding mine\n",
      "[Chorus]\n",
      "Baby, I'm dancing in the dark with you between my arms\n",
      "Barefoot on the grass, listening to our favourite song\n",
      "When you said you looked a mess, I whispered underneath my breath\n",
      "But you heard it, darling, you look perfect tonight\n",
      "\n",
      "[Verse 2]\n",
      "Well I found a woman, stronger than anyone I know\n",
      "She shares my dreams, I hope that someday I'll share her home\n",
      "I found a love, to carry more than just my secrets\n",
      "To carry love, to carry children of our own\n",
      "\n",
      "[Pre-Chorus]\n",
      "We are still kids, but we're so in love\n",
      "Fighting against all odds\n",
      "I know we'll be alright this time\n",
      "Darling, just hold my hand\n",
      "Be my girl, I'll be your man\n",
      "I see my future in your eyes\n",
      "\n",
      "[Chorus 2]\n",
      "Baby, I'm dancing in the dark, with you between my arms\n",
      "Barefoot on the grass, listening to our favourite song\n",
      "When I saw you in that dress, looking so beautiful\n",
      "I don't deserve this, darling, you look perfect tonight\n",
      "You might also like[Instrumental]\n",
      "\n",
      "[Chorus 3]\n",
      "Baby, I'm dancing in the dark, with you between my arms\n",
      "Barefoot on the grass, listening to our favourite song\n",
      "I have faith in what I see\n",
      "Now I know I have met an angel in person\n",
      "And she looks perfect\n",
      "\n",
      "[Outro]\n",
      "I don't deserve this\n",
      "You look perfect tonight259Embed\n",
      "Polarity:  0.43685064935064927\n"
     ]
    }
   ],
   "source": [
    "import json\n",
    "with open('lyrics_edsheeran_perfect.json') as json_file:\n",
    "    data = json.load(json_file)\n",
    "\n",
    "text = song.lyrics    \n",
    "print(text)\n",
    "\n",
    "import spacy\n",
    "from spacytextblob.spacytextblob import SpacyTextBlob\n",
    "\n",
    "nlp = spacy.load(\"en_core_web_sm\")\n",
    "nlp.add_pipe(\"spacytextblob\")\n",
    "doc = nlp(text)\n",
    "\n",
    "print('Polarity: ', doc._.blob.polarity)\n",
    "\n",
    "# With a polarity score of 0.4, the lyrics have a more positive connotation.\n"
   ]
  },
  {
   "cell_type": "markdown",
   "metadata": {},
   "source": [
    "**QUESTION 3: LYRIC FUNCTION"
   ]
  },
  {
   "cell_type": "markdown",
   "metadata": {},
   "source": [
    "3. Write a function that takes an artist, song, and filename, accesses the lyrics.ovh api to get the song lyrics, and writes the results to the specified filename.  Test this function by getting the lyrics to any four songs of your choice and storing them in different files."
   ]
  },
  {
   "cell_type": "code",
   "execution_count": 103,
   "metadata": {},
   "outputs": [
    {
     "name": "stdout",
     "output_type": "stream",
     "text": [
      "Searching for \"Delicate\" by Taylor Swift...\n",
      "Done.\n",
      "Searching for \"22\" by Taylor Swift...\n",
      "Done.\n",
      "Searching for \"All Too Well\" by Taylor Swift...\n",
      "Done.\n",
      "Searching for \"Fearless\" by Taylor Swift...\n",
      "Done.\n",
      "Searching for \"Delicate\" by Taylor Swift...\n",
      "Done.\n",
      "Searching for \"22\" by Taylor Swift...\n",
      "Done.\n",
      "Searching for \"All Too Well\" by Taylor Swift...\n",
      "Done.\n",
      "Searching for \"Fearless\" by Taylor Swift...\n",
      "Done.\n"
     ]
    }
   ],
   "source": [
    "def write_song_from_genius_to_json(artist,song,file):\n",
    "    song = genius.search_song(song, artist)\n",
    "    with open(file, 'w') as file:\n",
    "        json.dump(song.lyrics, file)\n",
    "        \n",
    "def write_song_from_genius_to_txt(artist,song,txtfile):\n",
    "    song = genius.search_song(song, artist)\n",
    "    with open(txtfile, 'w') as txtfile:\n",
    "        txtfile.write(song.lyrics)\n",
    "        \n",
    "        \n",
    "write_song_from_genius_to_json(\"Taylor Swift\",\"Delicate\",\"delicate.json\")\n",
    "write_song_from_genius_to_json(\"Taylor Swift\",\"22\",\"22.json\")\n",
    "write_song_from_genius_to_json(\"Taylor Swift\",\"All Too Well\",\"all_too_well.json\")\n",
    "write_song_from_genius_to_json(\"Taylor Swift\",\"Fearless\",\"fearless.json\")\n",
    "\n",
    "write_song_from_genius_to_txt(\"Taylor Swift\",\"Delicate\",\"delicate.txt\")\n",
    "write_song_from_genius_to_txt(\"Taylor Swift\",\"22\",\"22.txt\")\n",
    "write_song_from_genius_to_txt(\"Taylor Swift\",\"All Too Well\",\"all_too_well.txt\")\n",
    "write_song_from_genius_to_txt(\"Taylor Swift\",\"Fearless\",\"fearless.txt\")"
   ]
  },
  {
   "cell_type": "markdown",
   "metadata": {},
   "source": [
    "**QUESTION 4: POLARITY FUNCTION"
   ]
  },
  {
   "cell_type": "markdown",
   "metadata": {},
   "source": [
    "4. Write a function that takes the name of a file that contains song lyrics, loads the file, performs sentiment analysis, and returns the polarity score.  Use this function to print the polarity scores (with the name of the song) of the three files you created in question 3.  Does the reported polarity match your understanding of the song's lyrics? Why or why not do you think that might be?  Answer the questions in either a comment in the code cell or a markdown cell under the code cell."
   ]
  },
  {
   "cell_type": "code",
   "execution_count": 114,
   "metadata": {},
   "outputs": [
    {
     "name": "stdout",
     "output_type": "stream",
     "text": [
      "Song:  delicate.txt Polarity:  0.013675213675213667\n",
      "Song:  22.txt Polarity:  0.14051724137931035\n",
      "Song:  all_too_well.txt Polarity:  0.06513157894736842\n",
      "Song:  fearless.txt Polarity:  0.3052163338453661\n"
     ]
    }
   ],
   "source": [
    "def get_polarity(txtfile):\n",
    "    with open(txtfile) as f:\n",
    "        lyrics = f.read()\n",
    "    nlp = spacy.load(\"en_core_web_sm\")\n",
    "    nlp.add_pipe(\"spacytextblob\")\n",
    "    doc = nlp(lyrics)\n",
    "    print('Song: ',txtfile, 'Polarity: ', doc._.blob.polarity)\n",
    "    \n",
    "get_polarity(\"delicate.txt\")\n",
    "get_polarity(\"22.txt\")\n",
    "get_polarity(\"all_too_well.txt\")\n",
    "get_polarity(\"fearless.txt\")"
   ]
  },
  {
   "cell_type": "markdown",
   "metadata": {},
   "source": [
    "The polarity scores generally match my understanding of the song lyrics. \"Fearless\" and \"22\", having the most positive scores, are positive songs with very few words with negative connotations. While \"Delicate\" is a positive song, it's lyrics include words and phrases that would appear to be negative if taken out of context; therefore, a lower polarity score seems accurate. \"All Too Well\" is a generally neautral song in lyrics and meaning, leading to a close-to-neutral score."
   ]
  },
  {
   "cell_type": "code",
   "execution_count": null,
   "metadata": {},
   "outputs": [],
   "source": []
  }
 ],
 "metadata": {
  "kernelspec": {
   "display_name": "Python 3 (ipykernel)",
   "language": "python",
   "name": "python3"
  },
  "language_info": {
   "codemirror_mode": {
    "name": "ipython",
    "version": 3
   },
   "file_extension": ".py",
   "mimetype": "text/x-python",
   "name": "python",
   "nbconvert_exporter": "python",
   "pygments_lexer": "ipython3",
   "version": "3.9.7"
  }
 },
 "nbformat": 4,
 "nbformat_minor": 4
}
